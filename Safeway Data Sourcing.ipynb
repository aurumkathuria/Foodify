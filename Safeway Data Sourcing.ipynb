{
 "cells": [
  {
   "cell_type": "code",
   "execution_count": 21,
   "metadata": {},
   "outputs": [],
   "source": [
    "import requests\n",
    "from IPython.display import clear_output\n",
    "from tqdm import tqdm\n",
    "import numpy as np\n",
    "import pandas as pd\n",
    "from itertools import chain, combinations"
   ]
  },
  {
   "cell_type": "code",
   "execution_count": 42,
   "metadata": {},
   "outputs": [],
   "source": [
    "def powerset(iterable):\n",
    "    s = list(iterable)\n",
    "    return chain.from_iterable(combinations(s, r) for r in range(len(s)+1))"
   ]
  },
  {
   "cell_type": "code",
   "execution_count": 2,
   "metadata": {},
   "outputs": [],
   "source": [
    "def validate_response(response):\n",
    "    if response.status_code != 200:\n",
    "        return False\n",
    "    if 'tableOfIngredients' not in response.text:\n",
    "        return False"
   ]
  },
  {
   "cell_type": "code",
   "execution_count": null,
   "metadata": {},
   "outputs": [
    {
     "name": "stdout",
     "output_type": "stream",
     "text": [
      "Saved at pid: 148010622 (# 10200)Received 10400/27300\n",
      "Saved at pid: 960565781 (# 16000)Received 10400/15875\n",
      "Saved at pid: 960127743 (# 21100)Received 10400/11557\n",
      "Saved at pid: 960272392 (# 24500)Received 10400/19109\n",
      "Saved at pid: 165110045 (# 25400)Received 10400/19109\n",
      "Saved at pid: 960297722 (# 25700)Received 10400/19109\n",
      "Saved at pid: 960077149 (# 25900)Received 10400/19109\n",
      "Saved at pid: 153200741 (# 26100)Received 10400/19109\n",
      "Received 10400/19109\n",
      "Received 10400/19109\n",
      "Saved at pid: 960179901 (# 26200)Received 10400/19109\n",
      "Saved at pid: 960179405 (# 26200)Received 10400/19109\n",
      "Received 10400/19109\n",
      "Received 10400/19109\n",
      "Received 10400/19109\n",
      "Received 10400/19109\n",
      "Received 10400/19109\n",
      "Received 10400/19109\n",
      "Received 10400/19109\n",
      "Received 10400/19109\n",
      "Received 8600/19109\n",
      "Received 10400/19109\n",
      "Received 10400/19109\n",
      "Received 10400/19109\n",
      "Saved at pid: 960543297 (# 26600)"
     ]
    }
   ],
   "source": [
    "def run_safeway_search(query, offset=0):\n",
    "    tries_left = 3  # max try count\n",
    "    response_json = {}\n",
    "    while tries_left > 0:\n",
    "        try:\n",
    "            response = requests.get(f\"https://www.safeway.com/abs/pub/xapi/search/products?request-id=1518852227590&url=https://www.safeway.com&pageurl=https://www.safeway.com&pagename=search&rows=200&start={offset}&search-type=keyword&storeid=691&featured=true&search-uid=uid%253D407537418725%253Av%253D12.0%253Ats%253D1615936648909%253Ahc%253D35&q={query}&sort=&userid=41016216102&featuredsessionid=50c70c49-590e-4c91-871d-e6e7b536e795&screenwidth=1340&pp=true&user_id=41016216102&channel=pickup\", \n",
    "                            # data = {'q': query}, # doing it here (not in request url) means don't need to urlencode 'query'\n",
    "                            headers = {\n",
    "                                        \"accept\": \"application/json, text/plain, */*\",\n",
    "                                        \"accept-language\": \"en-US,en;q=0.9,ca;q=0.8\",\n",
    "                                        \"adrum\": \"isAjax:true\",\n",
    "                                        \"cache-control\": \"no-cache\",\n",
    "                                        \"ocp-apim-subscription-key\": \"e914eec9448c4d5eb672debf5011cf8f\",\n",
    "                                        \"pragma\": \"no-cache\",\n",
    "                                        \"sec-ch-ua\": \"\\\"Chromium\\\";v=\\\"88\\\", \\\"Google Chrome\\\";v=\\\"88\\\", \\\";Not A Brand\\\";v=\\\"99\\\"\",\n",
    "                                        \"sec-ch-ua-mobile\": \"?0\",\n",
    "                                        \"sec-fetch-dest\": \"empty\",\n",
    "                                        \"sec-fetch-mode\": \"cors\",\n",
    "                                        \"sec-fetch-site\": \"same-origin\",\n",
    "                                        \"cookie\": \"visid_incap_1610353=h1Q1U8j2SQaUnC9hk4FT6YQ8UWAAAAAAQUIPAAAAAAAkrzJ3RNWkIXI56AmhZi8z; ECommBanner=safeway; ECommSignInCount=0; AMCVS_A7BF3BC75245ADF20A490D4D%40AdobeOrg=1; at_check=true; _elevaate_session_id=50c70c49-590e-4c91-871d-e6e7b536e795; SAFEWAY_MODAL_LINK=; s_cc=true; safeway_ga=GA1.2.1080114698.1615936648; aam_uuid=18722161893880145312157904205544476748; _gcl_au=1.1.863769710.1615936650; _fbp=fb.1.1615936650007.1748943569; yldcQE_1pc=3ea637a4-5ea5-4fb8-bffc-1b27eefc9b51; _pin_unauth=dWlkPU56azNaREkyTkRJdE0yWmlZeTAwWVRNM0xUazNNVGd0WmpOak4yUmtORFV4T0RJMg; _ga=GA1.1.1080114698.1615936648; incap_ses_499_1610353=0GbMX37Rly/zhJFsMc7sBrBlZ2AAAAAACn8lYTa9TElgB3VdAMHAWw==; s_vncm=1619852399230%26vn%3D1; s_ivc=true; safeway_ga_gid=GA1.2.2129406604.1617388979; PasswordReset=; SAFEWAY_KMSI=false; SAFEWAY_RE_SIGN_IN=false; okta-oauth-redirect-params={\\\"responseType\\\":\\\"code\\\",\\\"state\\\":\\\"stoic-channel-augusta-lee\\\",\\\"nonce\\\":\\\"iAbgUMPPivt0slJWNJ3Atj5ydnl1n1ALW1JuGfqOIVdGqyYjNqOWjcbWzMHFvbnb\\\",\\\"scopes\\\":[\\\"openid\\\",\\\"profile\\\",\\\"email\\\",\\\"offline_access\\\",\\\"used_credentials\\\"],\\\"urls\\\":{\\\"issuer\\\":\\\"https://albertsons.okta.com/oauth2/ausp6soxrIyPrm8rS2p6\\\",\\\"authorizeUrl\\\":\\\"https://albertsons.okta.com/oauth2/ausp6soxrIyPrm8rS2p6/v1/authorize\\\",\\\"userinfoUrl\\\":\\\"https://albertsons.okta.com/oauth2/ausp6soxrIyPrm8rS2p6/v1/userinfo\\\"}}; okta-oauth-nonce=iAbgUMPPivt0slJWNJ3Atj5ydnl1n1ALW1JuGfqOIVdGqyYjNqOWjcbWzMHFvbnb; okta-oauth-state=stoic-channel-augusta-lee; ECommSSOActive=Y; AMCV_A7BF3BC75245ADF20A490D4D%40AdobeOrg=-1124106680%7CMCIDTS%7C18720%7CMCMID%7C13960729983576333831681742873632348904%7CMCAAMLH-1617994652%7C9%7CMCAAMB-1617994652%7CRKhpRz8krg2tLO6pguXWp5olkAcUniQYPHaMWWgdJ3xzPWQmdj0y%7CMCOPTOUT-1617397052s%7CNONE%7CvVersion%7C5.2.0%7CMCCIDH%7C-1608783658; abs_previouslogin=%7B%22info%22%3A%7B%22COMMON%22%3A%7B%22houseId%22%3A%22250024819941%22%2C%22clubCard%22%3A%2241016216102%22%2C%22userType%22%3A%22C%22%2C%22zipcode%22%3A%2294709%22%2C%22banner%22%3A%22safeway%22%2C%22preference%22%3A%22Dug%22%2C%22isClosed%22%3Afalse%2C%22Selection%22%3A%22user%22%2C%22userData%22%3A%7B%7D%7D%2C%22J4U%22%3A%7B%22storeId%22%3A%22691%22%2C%22zipcode%22%3A%2294709%22%2C%22address%22%3A%221444%20Shattuck%20Place%20Berkeley%2C%20CA%2094709%22%2C%22userData%22%3A%7B%22guestStoreId%22%3A%223132%22%2C%22guestZipCode%22%3A%2294611%22%7D%7D%2C%22SHOP%22%3A%7B%22storeId%22%3A%22691%22%2C%22zipcode%22%3A%2294709%22%2C%22address%22%3A%221444%20Shattuck%20Place%20Berkeley%2C%20CA%2094709%22%2C%22userData%22%3A%7B%22guestStoreId%22%3A%223132%22%2C%22guestZipCode%22%3A%2294611%22%2C%22signInCalled%22%3Afalse%7D%7D%7D%7D; SWY_SYND_USER_INFO=%7B%22firstName%22%3A%22Paul%22%2C%22hhid%22%3A%22250024819941%22%2C%22storeAddress%22%3A%221444%20Shattuck%20Place%20Berkeley%2C%20CA%2094709%22%2C%22storeId%22%3A%22691%22%2C%22storeZip%22%3A%2294709%22%2C%22preference%22%3A%22Dug%22%7D; ECommReInit=net; sapientHitCounter=3; nlbi_1610353=vClha+OYNR70GjV46eNT2gAAAABEeoewhgNljcMibKa37f7O; SWY_SHARED_SESSION_INFO=%7B%22info%22%3A%7B%22COMMON%22%3A%7B%22houseId%22%3A%22250024819941%22%2C%22clubCard%22%3A%2241016216102%22%2C%22userType%22%3A%22C%22%2C%22zipcode%22%3A%2294709%22%2C%22banner%22%3A%22safeway%22%2C%22preference%22%3A%22Dug%22%2C%22isClosed%22%3A%22false%22%2C%22Selection%22%3A%22user%22%2C%22xDTags%22%3A%22non_human%22%2C%22userData%22%3A%7B%7D%7D%2C%22J4U%22%3A%7B%22userType%22%3A%22R%22%2C%22storeId%22%3A%22691%22%2C%22zipcode%22%3A%2294709%22%2C%22address%22%3A%221444+Shattuck+Place+Berkeley%2C+CA+94709%22%2C%22userData%22%3A%7B%22guestStoreId%22%3A%223132%22%2C%22guestZipCode%22%3A%2294611%22%7D%7D%2C%22SHOP%22%3A%7B%22userType%22%3A%22R%22%2C%22storeId%22%3A%22691%22%2C%22zipcode%22%3A%2294709%22%2C%22address%22%3A%221444+Shattuck+Place+Berkeley%2C+CA+94709%22%2C%22userData%22%3A%7B%22guestStoreId%22%3A%223132%22%2C%22guestZipCode%22%3A%2294611%22%2C%22signInCalled%22%3Afalse%2C%22expireTime%22%3A%221617396306000%22%7D%7D%7D%7D; SWY_SHARED_PII_SESSION_INFO=%7B%22version%22%3A%221%22%2C%22jti%22%3A%22AT.8vsQ5KPcfrFw6tyVLAQejj90yS644sfZmvwtkIff4pM.oarrxn878iKQWZn832p6%22%2C%22issuer%22%3A%22https%3A%2F%2Falbertsons.okta.com%2Foauth2%2Fausp6soxrIyPrm8rS2p6%22%2C%22audience%22%3A%5B%22Albertsons%22%5D%2C%22uniqueId%22%3A%2200u9czw5i4siDgPaE2p7%22%2C%22scope%22%3A%5B%22offline_access%22%2C%22profile%22%2C%22email%22%2C%22openid%22%5D%2C%22name%22%3A%22Paul%22%2C%22gid%22%3A%22520-000-0250023471688%22%2C%22uuid%22%3A%22047a4bff-0436-4ee8-af66-91b5aa0e690f%22%2C%22userData%22%3A%7B%7D%7D; SWY_SHARED_SESSION=%7B%22accessToken%22%3A%22eyJraWQiOiJxYkpsN1lDa2NiYW5nNzlUWURYNk5HOER4Y2hhY2tPdG9tenVPVURqaFA4IiwiYWxnIjoiUlMyNTYifQ.eyJ2ZXIiOjEsImp0aSI6IkFULjh2c1E1S1BjZnJGdzZ0eVZMQVFlamo5MHlTNjQ0c2ZabXZ3dGtJZmY0cE0ub2FycnhuODc4aUtRV1puODMycDYiLCJpc3MiOiJodHRwczovL2FsYmVydHNvbnMub2t0YS5jb20vb2F1dGgyL2F1c3A2c294ckl5UHJtOHJTMnA2IiwiYXVkIjoiQWxiZXJ0c29ucyIsImlhdCI6MTYxNzM5MzYwNiwiZXhwIjoxNjE3Mzk2MzA2LCJjaWQiOiIwb2FwNmt1MDFYSnFJUmRsNDJwNiIsInVpZCI6IjAwdTljenc1aTRzaURnUGFFMnA3Iiwic2NwIjpbIm9mZmxpbmVfYWNjZXNzIiwicHJvZmlsZSIsImVtYWlsIiwib3BlbmlkIl0sInppcCI6Ijk0NjExIiwic3ViIjoiZ3Jld2FsLmZhbWlseS45NDMwMUBnbWFpbC5jb20iLCJoaWQiOiIyNTAwMjQ4MTk5NDEiLCJkbm0iOiJQYXVsIiwiYWxuIjoiNDEwMTYyMTYxMDIiLCJnaWQiOiI1MjAtMDAwLTAyNTAwMjM0NzE2ODgiLCJlY2MiOiIiLCJmbm0iOiJQYXVsIiwibG5tIjoiR3Jld2FsIiwidXVpZCI6IjA0N2E0YmZmLTA0MzYtNGVlOC1hZjY2LTkxYjVhYTBlNjkwZiIsImpwciI6IiIsImJhbiI6InNhZmV3YXkiLCJzdHIiOiIzMTMyIiwicGhuIjoiNjUwOTM4MTg1MCIsImJpZCI6IiJ9.d9QLOhgkdf2ztTELHxPsAb0PgoW8aaPQJ4xR4jWfhkmnepQu6Q2HFDxIE6GpJXgGXMvF3meg9oF7zXORXzdsA11w2O-T-sxHy8QiNNjQCPefoSL9WUeSillbadgTrxHdCYUq4Zvge1VFkiMrp2p-2WsqROu-QDnT2YQ2rjfaxGE32aWRWFzqj-Lz20uW05v8NVoGuVufloDNQq8fG7diBjP-MMQen2cqmUe-gje7yaFdTfBCr01XY9BAEGYrnyQ4VN53hsQVws9VXplXpAYCUZAgADxId7ZCy9vdVEOFNGR9iEYy5dKFCkCB3BTZcez-U1kriukgt8VYpaqtcsbN2g%22%2C%22refreshToken%22%3A%22iJSDnu5FkNLLizeZuQDgzBjF_wTBs4iA-eqX0nPf9UI%22%2C%22issueTime%22%3A1617393606000%2C%22expireTime%22%3A1617396306000%7D; s_sq=%5B%5BB%5D%5D; _gat_gtag_UA_172784514_2=1; _ga_LZL2CD3SX2=GS1.1.1617393609.3.0.1617393609.0; s_nr30=1617393611918-Repeat; gpv_Page=safeway%3Adelivery%3Asearch-results; _br_uid_2=uid%3D407537418725%3Av%3D12.0%3Ats%3D1615936648909%3Ahc%3D35; _uetsid=401f60c093e311ebb1791314a9d05614; _uetvid=401fa7a093e311eb8ede4723a82cbc4c; _derived_epik=dj0yJnU9R0xXYTF1b2xCRjlUODh6S0NwQXdFR0UzSy13bE5zbjUmbj1TUXp2Z2hYTUhyamhTbzVWa1pqUTlnJm09MSZ0PUFBQUFBR0JuZDgwJnJtPTEmcnQ9QUFBQUFHQm5kODA; reese84=3:nSvwKP3fUgetG+abe9mwtQ==:/De63YMbShs5o7hS6QGqvKKMGK0Ypj0oBPo5Gd5wXVBVV0V0pEepA8fWUxkdglbhMR4c630pVCqlKo7bUtYN5K4FAmRCfGLLeTw1+U1FGMox2WOe5G8X8jP0y5nt5//hKRWy9PA8yOn7TqbrS0vCmpLv6Qv6yoRiIaX948iSOiD/w7thCN1bbt9YTrtGJiRF4oEx9t4hH9RBIKkJjf4fQXYGKB7OS/14MrlwqBU++ykNoYS2y0ITWR/DvhB+zsgP7eaI30q0xsat0yMB4J8IrjaZl0BWjvEG6RSDEk+DNNoFL8k72xH0urarsHq4p72SyXlQwlreFkvlLicL0GD8YbSc1eUURuwVgWXpstw9VJUazsUF/feKAEAkEPITM8jQpzFXR7sruwJ2I6cmemxZq8mVHQymqswIzoTb4S30+DWmlM5rC8ZdYRzjKswyaj6I:Y0xCDAtJCA/1VTYc0HG7AxkVpYjBsgh+0CGRkzDLKX8=; ADRUM=s=1617393661549&r=https%3A%2F%2Fwww.safeway.com%2Fshop%2Fsearch-results.html%3Fhash%3D-922029818; nlbi_1610353_2147483646=xf06O7oEojDYVDo96eNT2gAAAABwgMswIHMcJYlNAZthvfJz; mbox=PC#e4d7f1f99c6d46ff9db5e1405d910d25.35_0#1680638463|session#36551e99903b4029a375646c2d71b158#1617394140\"\n",
    "                                        },\n",
    "                            params = {\n",
    "                                      \"referrer\": \"https://www.safeway.com/shop/search-results.html?q=milk\",\n",
    "                                      \"referrerPolicy\": \"strict-origin-when-cross-origin\",\n",
    "                                      \"body\": \"null\",\n",
    "                                      \"method\": \"GET\",\n",
    "                                      \"mode\": \"cors\"\n",
    "                                    }\n",
    "                           )\n",
    "            tries_left = 0\n",
    "            response_json = response.json()\n",
    "        except ChunkedEncodingError as ex:\n",
    "            if tries_left <= 0: \n",
    "                print(\"Failed to retrieve: \" + url + \"\\n\" + str(ex))  # done retrying\n",
    "            else: \n",
    "                tries_left -= 1 \n",
    "            # wait 1/2 second then retry\n",
    "            time.sleep(0.5)\n",
    "    return response_json\n",
    "\n",
    "def get_all_products_from_query(query):\n",
    "    # Setup vars\n",
    "    all_products = np.array([])\n",
    "    offset, num_received, num_products = 0, 0, 1\n",
    "    \n",
    "    # Keep making searches til we have all products\n",
    "    while num_received < num_products:\n",
    "        # run safeway search & update vars\n",
    "        response_json = run_safeway_search(query, offset)\n",
    "        if 'response' not in response_json.keys():\n",
    "            print(f\"Received {num_received}/{num_products}\")\n",
    "            break\n",
    "        response_json = response_json['response']\n",
    "        offset, num_received, num_products = num_received, num_received + len(response_json['docs']), response_json['numFound']\n",
    "        # extract products from response & add to list of all products\n",
    "        products = response_json['docs']\n",
    "        add_pids_from_products_list(products)\n",
    "        all_products = np.append(all_products, products)\n",
    "    return all_products\n",
    "\n",
    "def add_pids_from_products_list(products):\n",
    "    global valid_pids\n",
    "    for item in products:\n",
    "        pid = item['pid']\n",
    "        valid_pids.add(pid)\n",
    "        if len(valid_pids) % 100 == 0:\n",
    "            np.save('valid_pids.npy', np.fromiter(valid_pids, int, len(valid_pids)))\n",
    "            print(f\"\\rSaved at pid: {pid} (# {len(valid_pids)})\", end=\"\", flush=True)\n",
    "    return valid_pids\n",
    "\n",
    "def continually_make_queries():\n",
    "    alphabet = \"\".join([chr(i) for i in range(ord('a'), ord('z')+1)])\n",
    "    for query_chars in powerset(alphabet):\n",
    "        query = \"\".join(query_chars)\n",
    "        get_all_products_from_query(query)\n",
    "    return;\n",
    "    \n",
    "refresh_pids = True\n",
    "valid_pids = set() if refresh_pids else set(np.load('valid_pids.npy'))\n",
    "a = continually_make_queries()"
   ]
  },
  {
   "cell_type": "code",
   "execution_count": null,
   "metadata": {},
   "outputs": [],
   "source": [
    "data = pd.Series(a).apply(lambda dct: dict([(key, value) for key, value in dct.items() if key != 'channelEligibility']))"
   ]
  },
  {
   "cell_type": "code",
   "execution_count": null,
   "metadata": {},
   "outputs": [],
   "source": [
    "items_data = pd.DataFrame(data.to_dict()).T.set_index('pid')\n",
    "items_data"
   ]
  },
  {
   "cell_type": "code",
   "execution_count": 6,
   "metadata": {},
   "outputs": [],
   "source": [
    "items_data.to_csv('Safeway Search Data.csv')"
   ]
  },
  {
   "cell_type": "code",
   "execution_count": 7,
   "metadata": {
    "scrolled": true
   },
   "outputs": [
    {
     "data": {
      "text/plain": [
       "array(['960016747', '960127189', '188100136', ..., '960017252',\n",
       "       '188530055', '960254503'], dtype='<U32')"
      ]
     },
     "execution_count": 7,
     "metadata": {},
     "output_type": "execute_result"
    }
   ],
   "source": [
    "np.load('valid_pids.npy')"
   ]
  },
  {
   "cell_type": "code",
   "execution_count": null,
   "metadata": {},
   "outputs": [],
   "source": []
  },
  {
   "cell_type": "code",
   "execution_count": null,
   "metadata": {},
   "outputs": [],
   "source": []
  },
  {
   "cell_type": "code",
   "execution_count": null,
   "metadata": {},
   "outputs": [],
   "source": [
    "pd.read_csv('Safeway Recommendations.csv')"
   ]
  },
  {
   "cell_type": "code",
   "execution_count": null,
   "metadata": {},
   "outputs": [],
   "source": []
  }
 ],
 "metadata": {
  "kernelspec": {
   "display_name": "Python 3",
   "language": "python",
   "name": "python3"
  },
  "language_info": {
   "codemirror_mode": {
    "name": "ipython",
    "version": 3
   },
   "file_extension": ".py",
   "mimetype": "text/x-python",
   "name": "python",
   "nbconvert_exporter": "python",
   "pygments_lexer": "ipython3",
   "version": "3.7.9"
  }
 },
 "nbformat": 4,
 "nbformat_minor": 4
}
